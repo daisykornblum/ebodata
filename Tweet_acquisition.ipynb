{
 "metadata": {
  "name": "",
  "signature": "sha256:c9c5062cf49d38510c221518f27fdb7b2340f86aeb5a965f2d62ae6ef1e77688"
 },
 "nbformat": 3,
 "nbformat_minor": 0,
 "worksheets": [
  {
   "cells": [
    {
     "cell_type": "heading",
     "level": 1,
     "metadata": {},
     "source": [
      "Tweet acquisition using APIs"
     ]
    },
    {
     "cell_type": "heading",
     "level": 2,
     "metadata": {},
     "source": [
      "Twitter API login with credentials"
     ]
    },
    {
     "cell_type": "code",
     "collapsed": false,
     "input": [
      "# Create twitter object using credentials \n",
      "\n",
      "import json\n",
      "from flask import Flask, request\n",
      "from threading import Timer\n",
      "from IPython.display import IFrame\n",
      "from IPython.display import display\n",
      "from IPython.display import Javascript as JS\n",
      "\n",
      "import twitter\n",
      "from twitter.oauth_dance import parse_oauth_tokens\n",
      "from twitter.oauth import read_token_file, write_token_file\n",
      "\n",
      "# XXX: Go to http://dev.twitter.com/apps/new to create an app and get values\n",
      "# for these credentials, which you'll need to provide in place of these\n",
      "# empty string values that are defined as placeholders.\n",
      "# See https://dev.twitter.com/docs/auth/oauth for more information \n",
      "# on Twitter's OAuth implementation.\n",
      "\n",
      "CONSUMER_KEY = 'fGQNvRO9UObcPc2rXk5ne24c4'\n",
      "CONSUMER_SECRET = 'lw79cyT36k8RjR1vAHTnwIhQjQ2fg85BM1lCR8S7gyMKoLd6BE'\n",
      "OAUTH_TOKEN = '921712020-w9OX1XNMLjcuunhWadaUrSFe0B69fCHutNs9w0Uw'\n",
      "OAUTH_TOKEN_SECRET = 'fN9qw3Hq3Wf19Dy251JQFKRnayU9G2vpV62GuzLQqQWEX'\n",
      "\n",
      "auth = twitter.oauth.OAuth(OAUTH_TOKEN, OAUTH_TOKEN_SECRET,\n",
      "                           CONSUMER_KEY, CONSUMER_SECRET)\n",
      "\n",
      "twitter_api = twitter.Twitter(auth=auth)\n",
      "\n",
      "# Nothing to see by displaying twitter_api except that it's now a\n",
      "# defined variable\n",
      "\n",
      "print twitter_api"
     ],
     "language": "python",
     "metadata": {},
     "outputs": []
    },
    {
     "cell_type": "heading",
     "level": 2,
     "metadata": {},
     "source": [
      "Streaming API continuous data pull (forward in time)"
     ]
    },
    {
     "cell_type": "heading",
     "level": 3,
     "metadata": {},
     "source": [
      "Including all messages"
     ]
    },
    {
     "cell_type": "code",
     "collapsed": false,
     "input": [
      "# Query terms\n",
      "\n",
      "q = 'ebola' # Comma-separated list of terms\n",
      "\n",
      "print >> sys.stderr, 'Filtering the public timeline for track=\"%s\"' % (q,)\n",
      "\n",
      "# Reference the self.auth parameter\n",
      "twitter_stream = twitter.TwitterStream(auth=twitter_api.auth)\n",
      "\n",
      "# See https://dev.twitter.com/docs/streaming-apis\n",
      "stream = twitter_stream.statuses.filter(track=q)\n",
      "\n",
      "#Need a counter on the time / number tweets retrieved \n",
      "\n",
      "#Plus a counter to generate successive timestamp\n",
      "\n",
      "#Set up database to write pulled tweets to\n",
      "\n",
      "from pymongo import MongoClient\n",
      "client = MongoClient()\n",
      "db = client.ebodata\n",
      "collection = db.rawdata_20141119\n",
      "\n",
      "# Append each to db IF English language\n",
      "\n",
      "for tweet in stream:\n",
      "    if tweet['lang'] == 'en':\n",
      "    \tcollection.insert(tweet)\n",
      "        "
     ],
     "language": "python",
     "metadata": {},
     "outputs": []
    },
    {
     "cell_type": "heading",
     "level": 3,
     "metadata": {},
     "source": [
      "Excluding RTs using Twitters own filter"
     ]
    },
    {
     "cell_type": "code",
     "collapsed": false,
     "input": [
      "# Query terms\n",
      "\n",
      "q = 'ebola,-filter:retweets' # Comma-separated list of terms\n",
      "\n",
      "print >> sys.stderr, 'Filtering the public timeline for track=\"%s\"' % (q,)\n",
      "\n",
      "# Reference the self.auth parameter\n",
      "twitter_stream = twitter.TwitterStream(auth=twitter_api.auth)\n",
      "\n",
      "# See https://dev.twitter.com/docs/streaming-apis\n",
      "stream = twitter_stream.statuses.filter(track=q)\n",
      "\n",
      "#Need a counter on the time / number tweets retrieved \n",
      "\n",
      "#Plus a counter to generate successive timestamp\n",
      "\n",
      "#Set up database to write pulled tweets to\n",
      "\n",
      "from pymongo import MongoClient\n",
      "client = MongoClient()\n",
      "db = client.ebodata\n",
      "collection = db.rawdata_20141119\n",
      "\n",
      "# Append each to db IF English language\n",
      "\n",
      "for tweet in stream:\n",
      "    if tweet['lang'] == 'en':\n",
      "    \tcollection.insert(tweet)\n",
      "        "
     ],
     "language": "python",
     "metadata": {},
     "outputs": []
    },
    {
     "cell_type": "heading",
     "level": 2,
     "metadata": {},
     "source": [
      "Search API specified queries (back in time)"
     ]
    },
    {
     "cell_type": "heading",
     "level": 3,
     "metadata": {},
     "source": [
      "Maximise search results up to Twitter limit"
     ]
    },
    {
     "cell_type": "code",
     "collapsed": false,
     "input": [
      "#Set up database to write pulled tweets to\n",
      "\n",
      "from pymongo import MongoClient\n",
      "client = MongoClient()\n",
      "db = client.ebodata\n",
      "collection = db.searchdata_20141206\n",
      "\n",
      "def twitter_search(twitter_api, q, last_id=None, **kw):\n",
      "    # See https://dev.twitter.com/docs/api/1.1/get/search/tweets    \n",
      "    search_results = twitter_api.search.tweets(q=q, count=100, max_id=last_id, **kw)\n",
      "    \n",
      "    statuses = search_results['statuses']\n",
      "    collection.insert(statuses)\n",
      "    \n",
      "    for _ in range(179): \n",
      "        if last_id != search_results['statuses'][len(search_results['statuses']) - 1]['id_str']:\n",
      "            last_id = search_results['statuses'][len(search_results['statuses']) - 1]['id_str']\n",
      "        else:\n",
      "            break\n",
      "            \n",
      "        try:\n",
      "            search_results = twitter_api.search.tweets(q=q, count=100, max_id=last_id, **kw)\n",
      "        except:\n",
      "            break\n",
      "            \n",
      "        new_statuses = search_results['statuses']\n",
      "        new_statuses.pop(0)\n",
      "\n",
      "    \tcollection.insert(new_statuses)\n",
      "     \n",
      "        statuses += new_statuses\n",
      "            \n",
      "    return statuses\n",
      "    \n",
      "q = \"ebola health\"\n",
      "results = twitter_search(twitter_api, q)"
     ],
     "language": "python",
     "metadata": {},
     "outputs": []
    }
   ],
   "metadata": {}
  }
 ]
}