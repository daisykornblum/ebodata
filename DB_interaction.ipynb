{
 "metadata": {
  "name": "",
  "signature": "sha256:51f4a5d21be3addc301d029aa10188c6cf74dc1978a8c34fae8df071759ae0c5"
 },
 "nbformat": 3,
 "nbformat_minor": 0,
 "worksheets": [
  {
   "cells": [
    {
     "cell_type": "heading",
     "level": 1,
     "metadata": {},
     "source": [
      "DB interaction"
     ]
    },
    {
     "cell_type": "heading",
     "level": 2,
     "metadata": {},
     "source": [
      "MongoDB connection"
     ]
    },
    {
     "cell_type": "code",
     "collapsed": false,
     "input": [
      "def _connect_mongo(host, port, username, password, db):\n",
      "    \"\"\" A util for making a connection to mongo \"\"\"\n",
      "\n",
      "    if username and password:\n",
      "        mongo_uri = 'mongodb://%s:%s@%s:%s/%s' % (username, password, host, port, db)\n",
      "        conn = MongoClient(mongo_uri)\n",
      "    else:\n",
      "        conn = MongoClient(host, port)\n",
      "\n",
      "\n",
      "    return conn[db]\n",
      "\n",
      "# http://stackoverflow.com/questions/16249736/how-to-import-data-from-mongodb-to-pandas\n",
      "\n"
     ],
     "language": "python",
     "metadata": {},
     "outputs": []
    },
    {
     "cell_type": "heading",
     "level": 2,
     "metadata": {},
     "source": [
      "MongoDB queries"
     ]
    },
    {
     "cell_type": "code",
     "collapsed": false,
     "input": [
      "def read_mongo(db, collection, query={}, fields=None, limit_to=None, host='localhost', port=27017, username=None, password=None, no_id=True):\n",
      "    \"\"\" Read from Mongo and Store into DataFrame \"\"\"\n",
      "\n",
      "    # Connect to MongoDB\n",
      "    db = _connect_mongo(host=host, port=port, username=username, password=password, db=db)\n",
      "\n",
      "    # Make a query to the specific DB and Collection\n",
      "    cursor = db[collection].find(query, fields)\n",
      "    \n",
      "    if limit_to is not None:\n",
      "        cursor = cursor.limit(limit_to)\n",
      "\n",
      "    # Expand the cursor and construct the DataFrame\n",
      "    df =  pd.DataFrame(list(cursor))\n",
      "\n",
      "    # Delete the _id\n",
      "    if no_id:\n",
      "        del df['_id']\n",
      "\n",
      "    return df"
     ],
     "language": "python",
     "metadata": {},
     "outputs": []
    },
    {
     "cell_type": "heading",
     "level": 3,
     "metadata": {},
     "source": [
      "Example DB, query(filter), and field(vars) parameters"
     ]
    },
    {
     "cell_type": "code",
     "collapsed": false,
     "input": [
      "rawdata = read_mongo('ebodata', 'rawdata_20141119', {'lang':'en'}, {'text':1, 'id_str':True}, 100)\n",
      "rawdata.head(5)\n",
      "#rawdata.count()"
     ],
     "language": "python",
     "metadata": {},
     "outputs": []
    },
    {
     "cell_type": "heading",
     "level": 2,
     "metadata": {},
     "source": [
      "Removal of duplicated tweets that have escaped filters"
     ]
    },
    {
     "cell_type": "code",
     "collapsed": false,
     "input": [
      "### Algorithm for removing duplicates or close duplicates\n",
      "# http://docs.mongodb.org/manual/reference/method/db.collection.ensureIndex/\n",
      "# Creates index on possible duplicates"
     ],
     "language": "python",
     "metadata": {},
     "outputs": []
    },
    {
     "cell_type": "heading",
     "level": 2,
     "metadata": {},
     "source": [
      "Useful snippets"
     ]
    },
    {
     "cell_type": "heading",
     "level": 3,
     "metadata": {},
     "source": [
      "Date based queries"
     ]
    },
    {
     "cell_type": "code",
     "collapsed": false,
     "input": [
      "import json\n",
      "import pymongo # pip install pymongo\n",
      "from bson import json_util # Comes with pymongo\n",
      "from datetime import datetime as dt\n",
      "\n",
      "client = pymongo.MongoClient()\n",
      "\n",
      "db = client.ebodata\n",
      "\n",
      "tweets = db.rawdata.\n",
      "\n",
      "# Create a small date range here of one day\n",
      "\n",
      "start_date = dt(2001, 4, 1) # Year, Month, Day\n",
      "end_date = dt(2001, 4, 2) # Year, Month, Day\n",
      "\n",
      "# Query the database with the highly versatile \"find\" command,\n",
      "# just like in the MongoDB shell.\n",
      "\n",
      "tweets = [tweet \n",
      "         for tweet in tweet.find({\"Date\" : \n",
      "                                  {\n",
      "                                   \"$lt\" : end_date, \n",
      "                                   \"$gt\" : start_date\n",
      "                                  }\n",
      "                              }).sort(\"date\")]\n",
      "\n",
      "# Create a convenience function to make pretty-printing JSON a little\n",
      "# less cumbersome\n",
      "\n",
      "def pp(o, indent=1):\n",
      "    print json.dumps(msgs, indent=indent, default=json_util.default)\n",
      "\n",
      "print \"Messages from a query by date range:\"\n",
      "pp(msgs)\n"
     ],
     "language": "python",
     "metadata": {},
     "outputs": []
    }
   ],
   "metadata": {}
  }
 ]
}